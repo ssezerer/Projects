{
 "cells": [
  {
   "cell_type": "code",
   "execution_count": 1,
   "metadata": {},
   "outputs": [],
   "source": [
    "import pandas as pd\n",
    "import numpy as np\n",
    "import matplotlib.pyplot as plt\n",
    "import seaborn as sns\n",
    "import warnings\n",
    "warnings.filterwarnings('ignore')\n",
    "%matplotlib inline"
   ]
  },
  {
   "cell_type": "code",
   "execution_count": 2,
   "metadata": {},
   "outputs": [],
   "source": [
    "df = pd.read_csv(\"ML_ready.csv\")"
   ]
  },
  {
   "cell_type": "code",
   "execution_count": 3,
   "metadata": {},
   "outputs": [
    {
     "data": {
      "text/html": [
       "<div>\n",
       "<style scoped>\n",
       "    .dataframe tbody tr th:only-of-type {\n",
       "        vertical-align: middle;\n",
       "    }\n",
       "\n",
       "    .dataframe tbody tr th {\n",
       "        vertical-align: top;\n",
       "    }\n",
       "\n",
       "    .dataframe thead th {\n",
       "        text-align: right;\n",
       "    }\n",
       "</style>\n",
       "<table border=\"1\" class=\"dataframe\">\n",
       "  <thead>\n",
       "    <tr style=\"text-align: right;\">\n",
       "      <th></th>\n",
       "      <th>Unnamed: 0</th>\n",
       "      <th>bmp</th>\n",
       "      <th>emp</th>\n",
       "      <th>seg_length</th>\n",
       "      <th>gis_miles</th>\n",
       "      <th>symbol</th>\n",
       "      <th>jurisdiction_c</th>\n",
       "      <th>jurisdiction_fs</th>\n",
       "      <th>jurisdiction_of</th>\n",
       "      <th>jurisdiction_ofs</th>\n",
       "      <th>...</th>\n",
       "      <th>districtname_yolla bolla ranger district</th>\n",
       "      <th>districtname_yuba river ranger district</th>\n",
       "      <th>districtname_zigzag ranger district</th>\n",
       "      <th>sbs_symbol_name_gravel road</th>\n",
       "      <th>sbs_symbol_name_paved road</th>\n",
       "      <th>sbs_symbol_name_road</th>\n",
       "      <th>routestatus_ existing</th>\n",
       "      <th>ta_symbol_4</th>\n",
       "      <th>ta_symbol_5</th>\n",
       "      <th>ta_symbol_6</th>\n",
       "    </tr>\n",
       "  </thead>\n",
       "  <tbody>\n",
       "    <tr>\n",
       "      <th>0</th>\n",
       "      <td>0</td>\n",
       "      <td>0.0</td>\n",
       "      <td>0.225</td>\n",
       "      <td>0.225</td>\n",
       "      <td>0.218</td>\n",
       "      <td>3</td>\n",
       "      <td>0</td>\n",
       "      <td>1</td>\n",
       "      <td>0</td>\n",
       "      <td>0</td>\n",
       "      <td>...</td>\n",
       "      <td>0</td>\n",
       "      <td>0</td>\n",
       "      <td>0</td>\n",
       "      <td>1</td>\n",
       "      <td>0</td>\n",
       "      <td>0</td>\n",
       "      <td>1</td>\n",
       "      <td>1</td>\n",
       "      <td>0</td>\n",
       "      <td>0</td>\n",
       "    </tr>\n",
       "    <tr>\n",
       "      <th>1</th>\n",
       "      <td>1</td>\n",
       "      <td>0.0</td>\n",
       "      <td>2.160</td>\n",
       "      <td>2.160</td>\n",
       "      <td>2.153</td>\n",
       "      <td>11</td>\n",
       "      <td>0</td>\n",
       "      <td>1</td>\n",
       "      <td>0</td>\n",
       "      <td>0</td>\n",
       "      <td>...</td>\n",
       "      <td>0</td>\n",
       "      <td>0</td>\n",
       "      <td>0</td>\n",
       "      <td>0</td>\n",
       "      <td>0</td>\n",
       "      <td>1</td>\n",
       "      <td>1</td>\n",
       "      <td>0</td>\n",
       "      <td>0</td>\n",
       "      <td>1</td>\n",
       "    </tr>\n",
       "    <tr>\n",
       "      <th>2</th>\n",
       "      <td>2</td>\n",
       "      <td>0.0</td>\n",
       "      <td>0.281</td>\n",
       "      <td>0.281</td>\n",
       "      <td>0.380</td>\n",
       "      <td>3</td>\n",
       "      <td>0</td>\n",
       "      <td>1</td>\n",
       "      <td>0</td>\n",
       "      <td>0</td>\n",
       "      <td>...</td>\n",
       "      <td>0</td>\n",
       "      <td>0</td>\n",
       "      <td>0</td>\n",
       "      <td>1</td>\n",
       "      <td>0</td>\n",
       "      <td>0</td>\n",
       "      <td>1</td>\n",
       "      <td>1</td>\n",
       "      <td>0</td>\n",
       "      <td>0</td>\n",
       "    </tr>\n",
       "    <tr>\n",
       "      <th>3</th>\n",
       "      <td>3</td>\n",
       "      <td>0.0</td>\n",
       "      <td>0.400</td>\n",
       "      <td>0.400</td>\n",
       "      <td>0.230</td>\n",
       "      <td>3</td>\n",
       "      <td>0</td>\n",
       "      <td>1</td>\n",
       "      <td>0</td>\n",
       "      <td>0</td>\n",
       "      <td>...</td>\n",
       "      <td>0</td>\n",
       "      <td>0</td>\n",
       "      <td>0</td>\n",
       "      <td>1</td>\n",
       "      <td>0</td>\n",
       "      <td>0</td>\n",
       "      <td>1</td>\n",
       "      <td>1</td>\n",
       "      <td>0</td>\n",
       "      <td>0</td>\n",
       "    </tr>\n",
       "    <tr>\n",
       "      <th>4</th>\n",
       "      <td>4</td>\n",
       "      <td>0.0</td>\n",
       "      <td>2.375</td>\n",
       "      <td>2.375</td>\n",
       "      <td>2.451</td>\n",
       "      <td>3</td>\n",
       "      <td>0</td>\n",
       "      <td>1</td>\n",
       "      <td>0</td>\n",
       "      <td>0</td>\n",
       "      <td>...</td>\n",
       "      <td>0</td>\n",
       "      <td>0</td>\n",
       "      <td>0</td>\n",
       "      <td>1</td>\n",
       "      <td>0</td>\n",
       "      <td>0</td>\n",
       "      <td>1</td>\n",
       "      <td>1</td>\n",
       "      <td>0</td>\n",
       "      <td>0</td>\n",
       "    </tr>\n",
       "  </tbody>\n",
       "</table>\n",
       "<p>5 rows × 457 columns</p>\n",
       "</div>"
      ],
      "text/plain": [
       "   Unnamed: 0  bmp    emp  seg_length  gis_miles  symbol  jurisdiction_c  \\\n",
       "0           0  0.0  0.225       0.225      0.218       3               0   \n",
       "1           1  0.0  2.160       2.160      2.153      11               0   \n",
       "2           2  0.0  0.281       0.281      0.380       3               0   \n",
       "3           3  0.0  0.400       0.400      0.230       3               0   \n",
       "4           4  0.0  2.375       2.375      2.451       3               0   \n",
       "\n",
       "   jurisdiction_fs  jurisdiction_of  jurisdiction_ofs  ...  \\\n",
       "0                1                0                 0  ...   \n",
       "1                1                0                 0  ...   \n",
       "2                1                0                 0  ...   \n",
       "3                1                0                 0  ...   \n",
       "4                1                0                 0  ...   \n",
       "\n",
       "   districtname_yolla bolla ranger district  \\\n",
       "0                                         0   \n",
       "1                                         0   \n",
       "2                                         0   \n",
       "3                                         0   \n",
       "4                                         0   \n",
       "\n",
       "   districtname_yuba river ranger district  \\\n",
       "0                                        0   \n",
       "1                                        0   \n",
       "2                                        0   \n",
       "3                                        0   \n",
       "4                                        0   \n",
       "\n",
       "   districtname_zigzag ranger district  sbs_symbol_name_gravel road  \\\n",
       "0                                    0                            1   \n",
       "1                                    0                            0   \n",
       "2                                    0                            1   \n",
       "3                                    0                            1   \n",
       "4                                    0                            1   \n",
       "\n",
       "   sbs_symbol_name_paved road  sbs_symbol_name_road  routestatus_ existing  \\\n",
       "0                           0                     0                      1   \n",
       "1                           0                     1                      1   \n",
       "2                           0                     0                      1   \n",
       "3                           0                     0                      1   \n",
       "4                           0                     0                      1   \n",
       "\n",
       "   ta_symbol_4  ta_symbol_5  ta_symbol_6  \n",
       "0            1            0            0  \n",
       "1            0            0            1  \n",
       "2            1            0            0  \n",
       "3            1            0            0  \n",
       "4            1            0            0  \n",
       "\n",
       "[5 rows x 457 columns]"
      ]
     },
     "execution_count": 3,
     "metadata": {},
     "output_type": "execute_result"
    }
   ],
   "source": [
    "df.head()"
   ]
  },
  {
   "cell_type": "code",
   "execution_count": 4,
   "metadata": {},
   "outputs": [],
   "source": [
    "df.drop(\"Unnamed: 0\",axis=1,inplace=True)"
   ]
  },
  {
   "cell_type": "code",
   "execution_count": 5,
   "metadata": {},
   "outputs": [],
   "source": [
    "from sklearn.preprocessing import scale, StandardScaler\n",
    "from sklearn.model_selection import train_test_split, GridSearchCV, cross_val_score,RandomizedSearchCV\n",
    "from sklearn.metrics import confusion_matrix, accuracy_score, mean_squared_error, r2_score, roc_auc_score, roc_curve, classification_report\n",
    "from sklearn.linear_model import LogisticRegression\n",
    "from sklearn.neighbors import KNeighborsClassifier\n",
    "from sklearn.tree import DecisionTreeClassifier\n",
    "from sklearn.ensemble import RandomForestClassifier\n",
    "from sklearn.ensemble import GradientBoostingClassifier\n",
    "from sklearn.metrics import plot_confusion_matrix\n",
    "from xgboost import XGBClassifier\n",
    "import warnings\n",
    "warnings.filterwarnings(\"ignore\")"
   ]
  },
  {
   "cell_type": "markdown",
   "metadata": {},
   "source": [
    "---\n",
    "---"
   ]
  },
  {
   "cell_type": "code",
   "execution_count": 6,
   "metadata": {},
   "outputs": [],
   "source": [
    "X = df.drop(\"symbol\", axis=1)\n",
    "\n",
    "y = df[\"symbol\"]\n",
    "X_train, X_test, y_train, y_test = train_test_split(X, y, test_size=0.4,stratify=y, random_state=111)"
   ]
  },
  {
   "cell_type": "markdown",
   "metadata": {},
   "source": [
    "# KNN "
   ]
  },
  {
   "cell_type": "code",
   "execution_count": 7,
   "metadata": {},
   "outputs": [],
   "source": [
    "knn_model=KNeighborsClassifier().fit(X_train, y_train)"
   ]
  },
  {
   "cell_type": "code",
   "execution_count": 8,
   "metadata": {},
   "outputs": [
    {
     "name": "stdout",
     "output_type": "stream",
     "text": [
      "[[19717   104    37     5     1     0]\n",
      " [  379  6120     9    14     1     0]\n",
      " [   16    12 11489   109     1     0]\n",
      " [    4    12   392  2909     0     2]\n",
      " [    9     1    36     3   478    14]\n",
      " [    7    38    19    14    21   352]]\n",
      "              precision    recall  f1-score   support\n",
      "\n",
      "           1       0.98      0.99      0.99     19864\n",
      "           2       0.97      0.94      0.96      6523\n",
      "           3       0.96      0.99      0.97     11627\n",
      "           4       0.95      0.88      0.91      3319\n",
      "          11       0.95      0.88      0.92       541\n",
      "          12       0.96      0.78      0.86       451\n",
      "\n",
      "    accuracy                           0.97     42325\n",
      "   macro avg       0.96      0.91      0.93     42325\n",
      "weighted avg       0.97      0.97      0.97     42325\n",
      "\n"
     ]
    },
    {
     "data": {
      "image/png": "[encoded data removed]",
      "text/plain": [
       "<Figure size 432x288 with 2 Axes>"
      ]
     },
     "metadata": {
      "needs_background": "light"
     },
     "output_type": "display_data"
    }
   ],
   "source": [
    "y_pred=knn_model.predict(X_test)\n",
    "\n",
    "print(confusion_matrix(y_test, y_pred))\n",
    "\n",
    "plot_confusion_matrix(knn_model,X_test,y_test)\n",
    "\n",
    "print(classification_report(y_test, y_pred))\n"
   ]
  },
  {
   "cell_type": "markdown",
   "metadata": {},
   "source": [
    "---\n",
    "---"
   ]
  },
  {
   "cell_type": "markdown",
   "metadata": {},
   "source": [
    "# LOGREG "
   ]
  },
  {
   "cell_type": "code",
   "execution_count": 9,
   "metadata": {},
   "outputs": [],
   "source": [
    "logreg = LogisticRegression().fit(X_train, y_train)"
   ]
  },
  {
   "cell_type": "code",
   "execution_count": 10,
   "metadata": {},
   "outputs": [
    {
     "name": "stdout",
     "output_type": "stream",
     "text": [
      "[[19824     5    26     2     7     0]\n",
      " [   78  6425     3    16     0     1]\n",
      " [    6     6 11596     9    10     0]\n",
      " [    1    10    56  3247     3     2]\n",
      " [    4     0    16     0   521     0]\n",
      " [    0    25     3     7     4   412]]\n",
      "              precision    recall  f1-score   support\n",
      "\n",
      "           1       1.00      1.00      1.00     19864\n",
      "           2       0.99      0.98      0.99      6523\n",
      "           3       0.99      1.00      0.99     11627\n",
      "           4       0.99      0.98      0.98      3319\n",
      "          11       0.96      0.96      0.96       541\n",
      "          12       0.99      0.91      0.95       451\n",
      "\n",
      "    accuracy                           0.99     42325\n",
      "   macro avg       0.99      0.97      0.98     42325\n",
      "weighted avg       0.99      0.99      0.99     42325\n",
      "\n"
     ]
    },
    {
     "data": {
      "image/png": "[encoded data removed]",
      "text/plain": [
       "<Figure size 432x288 with 2 Axes>"
      ]
     },
     "metadata": {
      "needs_background": "light"
     },
     "output_type": "display_data"
    }
   ],
   "source": [
    "y_pred=logreg.predict(X_test)\n",
    "\n",
    "print(confusion_matrix(y_test, y_pred))\n",
    "\n",
    "plot_confusion_matrix(logreg,X_test,y_test)\n",
    "\n",
    "print(classification_report(y_test, y_pred))\n"
   ]
  },
  {
   "cell_type": "markdown",
   "metadata": {},
   "source": [
    "---\n",
    "---"
   ]
  },
  {
   "cell_type": "markdown",
   "metadata": {},
   "source": [
    "# RF "
   ]
  },
  {
   "cell_type": "code",
   "execution_count": 11,
   "metadata": {},
   "outputs": [],
   "source": [
    "rf_mod = RandomForestClassifier().fit(X_train, y_train)"
   ]
  },
  {
   "cell_type": "code",
   "execution_count": 12,
   "metadata": {},
   "outputs": [
    {
     "name": "stdout",
     "output_type": "stream",
     "text": [
      "[[19809    33    15     2     5     0]\n",
      " [   46  6457     2     6     0    12]\n",
      " [    2     2 11614     6     2     1]\n",
      " [    0     8    20  3289     0     2]\n",
      " [    2     0     3     0   531     5]\n",
      " [    0    13     4     0     2   432]]\n",
      "              precision    recall  f1-score   support\n",
      "\n",
      "           1       1.00      1.00      1.00     19864\n",
      "           2       0.99      0.99      0.99      6523\n",
      "           3       1.00      1.00      1.00     11627\n",
      "           4       1.00      0.99      0.99      3319\n",
      "          11       0.98      0.98      0.98       541\n",
      "          12       0.96      0.96      0.96       451\n",
      "\n",
      "    accuracy                           1.00     42325\n",
      "   macro avg       0.99      0.99      0.99     42325\n",
      "weighted avg       1.00      1.00      1.00     42325\n",
      "\n"
     ]
    },
    {
     "data": {
      "image/png": "[encoded data removed]",
      "text/plain": [
       "<Figure size 432x288 with 2 Axes>"
      ]
     },
     "metadata": {
      "needs_background": "light"
     },
     "output_type": "display_data"
    }
   ],
   "source": [
    "y_pred = rf_mod.predict(X_test)\n",
    "\n",
    "print(confusion_matrix(y_test,y_pred))\n",
    "\n",
    "plot_confusion_matrix(rf_mod,X_test,y_test)\n",
    "\n",
    "print(classification_report(y_test,y_pred))\n"
   ]
  },
  {
   "cell_type": "markdown",
   "metadata": {},
   "source": [
    "----\n",
    "----"
   ]
  },
  {
   "cell_type": "markdown",
   "metadata": {},
   "source": [
    "# XGBOOST "
   ]
  },
  {
   "cell_type": "code",
   "execution_count": 7,
   "metadata": {},
   "outputs": [],
   "source": [
    "xgb_classifier = XGBClassifier().fit(X_train , y_train)"
   ]
  },
  {
   "cell_type": "code",
   "execution_count": 9,
   "metadata": {},
   "outputs": [
    {
     "name": "stdout",
     "output_type": "stream",
     "text": [
      "[[31721    28    23     2     7     0]\n",
      " [   90 10328     2    12     0     5]\n",
      " [   16     9 18562    10     6     1]\n",
      " [    2    12    49  5245     0     2]\n",
      " [    2     0    13     0   847     3]\n",
      " [    0    26     6     1     3   686]]\n",
      "              precision    recall  f1-score   support\n",
      "\n",
      "           1       1.00      1.00      1.00     31781\n",
      "           2       0.99      0.99      0.99     10437\n",
      "           3       1.00      1.00      1.00     18604\n",
      "           4       1.00      0.99      0.99      5310\n",
      "          11       0.98      0.98      0.98       865\n",
      "          12       0.98      0.95      0.97       722\n",
      "\n",
      "    accuracy                           1.00     67719\n",
      "   macro avg       0.99      0.98      0.99     67719\n",
      "weighted avg       1.00      1.00      1.00     67719\n",
      "\n"
     ]
    },
    {
     "data": {
      "image/png": "[encoded data removed]",
      "text/plain": [
       "<Figure size 432x288 with 2 Axes>"
      ]
     },
     "metadata": {
      "needs_background": "light"
     },
     "output_type": "display_data"
    }
   ],
   "source": [
    "y_pred = xgb_classifier.predict(X_test)\n",
    "\n",
    "print(confusion_matrix(y_test,y_pred))\n",
    "\n",
    "plot_confusion_matrix(xgb_classifier,X_test,y_test)\n",
    "\n",
    "print(classification_report(y_test,y_pred))"
   ]
  },
  {
   "cell_type": "code",
   "execution_count": 16,
   "metadata": {},
   "outputs": [
    {
     "name": "stderr",
     "output_type": "stream",
     "text": [
      "[Parallel(n_jobs=-1)]: Using backend LokyBackend with 8 concurrent workers.\n",
      "[Parallel(n_jobs=-1)]: Done   3 out of   3 | elapsed:  9.4min remaining:    0.0s\n",
      "[Parallel(n_jobs=-1)]: Done   3 out of   3 | elapsed:  9.4min finished\n"
     ]
    },
    {
     "data": {
      "text/plain": [
       "0.9952745487194027"
      ]
     },
     "execution_count": 16,
     "metadata": {},
     "output_type": "execute_result"
    }
   ],
   "source": [
    "accuraries = cross_val_score(estimator=xgb_classifier, X=X_train, y=y_train,n_jobs =-1, verbose=5, cv=3)\n",
    "accuraries.mean()"
   ]
  },
  {
   "cell_type": "code",
   "execution_count": null,
   "metadata": {},
   "outputs": [],
   "source": []
  },
  {
   "cell_type": "code",
   "execution_count": null,
   "metadata": {},
   "outputs": [],
   "source": []
  }
 ],
 "metadata": {
  "kernelspec": {
   "display_name": "Python 3",
   "language": "python",
   "name": "python3"
  },
  "language_info": {
   "codemirror_mode": {
    "name": "ipython",
    "version": 3
   },
   "file_extension": ".py",
   "mimetype": "text/x-python",
   "name": "python",
   "nbconvert_exporter": "python",
   "pygments_lexer": "ipython3",
   "version": "3.8.5"
  }
 },
 "nbformat": 4,
 "nbformat_minor": 4
}
